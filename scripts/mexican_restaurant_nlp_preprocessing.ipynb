{
 "cells": [
  {
   "attachments": {},
   "cell_type": "markdown",
   "metadata": {},
   "source": [
    "# Mexican Restaurant Reviews Text pre-processing"
   ]
  },
  {
   "attachments": {},
   "cell_type": "markdown",
   "metadata": {},
   "source": [
    "#### Module Imports"
   ]
  },
  {
   "cell_type": "code",
   "execution_count": 1,
   "metadata": {},
   "outputs": [],
   "source": [
    "import pandas as pd \n",
    "import numpy as np \n",
    "import re \n",
    "import matplotlib.pyplot as plt \n",
    "import seaborn as sns \n",
    "from scipy.stats import stats\n",
    "import string \n",
    "import nltk\n",
    "from nltk.corpus import stopwords\n",
    "import string \n",
    "from collections import Counter\n",
    "from nltk import ne_chunk, pos_tag, word_tokenize\n",
    "from nltk.tree import Tree"
   ]
  },
  {
   "attachments": {},
   "cell_type": "markdown",
   "metadata": {},
   "source": [
    "#### Read data"
   ]
  },
  {
   "cell_type": "code",
   "execution_count": 2,
   "metadata": {},
   "outputs": [],
   "source": [
    "#pandas to read data \n",
    "\n",
    "mexican_reviews = pd.read_csv(r\"C:\\Users\\CallumO'Neill\\windows_directory\\data\\master_mexican_restaurant_reviews.csv\")\n"
   ]
  },
  {
   "cell_type": "code",
   "execution_count": 3,
   "metadata": {},
   "outputs": [
    {
     "data": {
      "text/html": [
       "<div>\n",
       "<style scoped>\n",
       "    .dataframe tbody tr th:only-of-type {\n",
       "        vertical-align: middle;\n",
       "    }\n",
       "\n",
       "    .dataframe tbody tr th {\n",
       "        vertical-align: top;\n",
       "    }\n",
       "\n",
       "    .dataframe thead th {\n",
       "        text-align: right;\n",
       "    }\n",
       "</style>\n",
       "<table border=\"1\" class=\"dataframe\">\n",
       "  <thead>\n",
       "    <tr style=\"text-align: right;\">\n",
       "      <th></th>\n",
       "      <th>Unnamed: 0.1</th>\n",
       "      <th>Unnamed: 0</th>\n",
       "      <th>review_title</th>\n",
       "      <th>review_date</th>\n",
       "      <th>description</th>\n",
       "      <th>date_of_visit</th>\n",
       "    </tr>\n",
       "  </thead>\n",
       "  <tbody>\n",
       "    <tr>\n",
       "      <th>0</th>\n",
       "      <td>0</td>\n",
       "      <td>0</td>\n",
       "      <td>Great breakfast service</td>\n",
       "      <td>8 July 2023</td>\n",
       "      <td>Awa served us breakfast and she was wonderful!...</td>\n",
       "      <td>Date of visit: July 2023</td>\n",
       "    </tr>\n",
       "    <tr>\n",
       "      <th>1</th>\n",
       "      <td>1</td>\n",
       "      <td>1</td>\n",
       "      <td>Nice service</td>\n",
       "      <td>8 July 2023</td>\n",
       "      <td>Dear Guest, Thank you for the feedback and you...</td>\n",
       "      <td>Date of visit: July 2023</td>\n",
       "    </tr>\n",
       "    <tr>\n",
       "      <th>2</th>\n",
       "      <td>2</td>\n",
       "      <td>2</td>\n",
       "      <td>Ask for Dhaval! He was great!</td>\n",
       "      <td>8 July 2023</td>\n",
       "      <td>Alston and Caleb amazing staff Very nice food ...</td>\n",
       "      <td>Date of visit: July 2023</td>\n",
       "    </tr>\n",
       "    <tr>\n",
       "      <th>3</th>\n",
       "      <td>3</td>\n",
       "      <td>3</td>\n",
       "      <td>Fusion</td>\n",
       "      <td>8 July 2023</td>\n",
       "      <td>Dear Guest, Thank you so much for your kind wo...</td>\n",
       "      <td>Date of visit: July 2023</td>\n",
       "    </tr>\n",
       "    <tr>\n",
       "      <th>4</th>\n",
       "      <td>4</td>\n",
       "      <td>4</td>\n",
       "      <td>Great evening meal out</td>\n",
       "      <td>8 July 2023</td>\n",
       "      <td>Dhivakar our waiter was extraordinary! The foo...</td>\n",
       "      <td>Date of visit: July 2023</td>\n",
       "    </tr>\n",
       "  </tbody>\n",
       "</table>\n",
       "</div>"
      ],
      "text/plain": [
       "   Unnamed: 0.1  Unnamed: 0                   review_title  review_date  \\\n",
       "0             0           0        Great breakfast service  8 July 2023   \n",
       "1             1           1                   Nice service  8 July 2023   \n",
       "2             2           2  Ask for Dhaval! He was great!  8 July 2023   \n",
       "3             3           3                         Fusion  8 July 2023   \n",
       "4             4           4         Great evening meal out  8 July 2023   \n",
       "\n",
       "                                         description             date_of_visit  \n",
       "0  Awa served us breakfast and she was wonderful!...  Date of visit: July 2023  \n",
       "1  Dear Guest, Thank you for the feedback and you...  Date of visit: July 2023  \n",
       "2  Alston and Caleb amazing staff Very nice food ...  Date of visit: July 2023  \n",
       "3  Dear Guest, Thank you so much for your kind wo...  Date of visit: July 2023  \n",
       "4  Dhivakar our waiter was extraordinary! The foo...  Date of visit: July 2023  "
      ]
     },
     "execution_count": 3,
     "metadata": {},
     "output_type": "execute_result"
    }
   ],
   "source": [
    "mexican_reviews.head()"
   ]
  },
  {
   "attachments": {},
   "cell_type": "markdown",
   "metadata": {},
   "source": [
    "#### removal of unnamed: 0 column from data frame "
   ]
  },
  {
   "cell_type": "code",
   "execution_count": 4,
   "metadata": {},
   "outputs": [
    {
     "data": {
      "text/html": [
       "<div>\n",
       "<style scoped>\n",
       "    .dataframe tbody tr th:only-of-type {\n",
       "        vertical-align: middle;\n",
       "    }\n",
       "\n",
       "    .dataframe tbody tr th {\n",
       "        vertical-align: top;\n",
       "    }\n",
       "\n",
       "    .dataframe thead th {\n",
       "        text-align: right;\n",
       "    }\n",
       "</style>\n",
       "<table border=\"1\" class=\"dataframe\">\n",
       "  <thead>\n",
       "    <tr style=\"text-align: right;\">\n",
       "      <th></th>\n",
       "      <th>review_title</th>\n",
       "      <th>review_date</th>\n",
       "      <th>description</th>\n",
       "      <th>date_of_visit</th>\n",
       "    </tr>\n",
       "  </thead>\n",
       "  <tbody>\n",
       "    <tr>\n",
       "      <th>0</th>\n",
       "      <td>Great breakfast service</td>\n",
       "      <td>8 July 2023</td>\n",
       "      <td>Awa served us breakfast and she was wonderful!...</td>\n",
       "      <td>Date of visit: July 2023</td>\n",
       "    </tr>\n",
       "    <tr>\n",
       "      <th>1</th>\n",
       "      <td>Nice service</td>\n",
       "      <td>8 July 2023</td>\n",
       "      <td>Dear Guest, Thank you for the feedback and you...</td>\n",
       "      <td>Date of visit: July 2023</td>\n",
       "    </tr>\n",
       "    <tr>\n",
       "      <th>2</th>\n",
       "      <td>Ask for Dhaval! He was great!</td>\n",
       "      <td>8 July 2023</td>\n",
       "      <td>Alston and Caleb amazing staff Very nice food ...</td>\n",
       "      <td>Date of visit: July 2023</td>\n",
       "    </tr>\n",
       "    <tr>\n",
       "      <th>3</th>\n",
       "      <td>Fusion</td>\n",
       "      <td>8 July 2023</td>\n",
       "      <td>Dear Guest, Thank you so much for your kind wo...</td>\n",
       "      <td>Date of visit: July 2023</td>\n",
       "    </tr>\n",
       "    <tr>\n",
       "      <th>4</th>\n",
       "      <td>Great evening meal out</td>\n",
       "      <td>8 July 2023</td>\n",
       "      <td>Dhivakar our waiter was extraordinary! The foo...</td>\n",
       "      <td>Date of visit: July 2023</td>\n",
       "    </tr>\n",
       "  </tbody>\n",
       "</table>\n",
       "</div>"
      ],
      "text/plain": [
       "                    review_title  review_date  \\\n",
       "0        Great breakfast service  8 July 2023   \n",
       "1                   Nice service  8 July 2023   \n",
       "2  Ask for Dhaval! He was great!  8 July 2023   \n",
       "3                         Fusion  8 July 2023   \n",
       "4         Great evening meal out  8 July 2023   \n",
       "\n",
       "                                         description             date_of_visit  \n",
       "0  Awa served us breakfast and she was wonderful!...  Date of visit: July 2023  \n",
       "1  Dear Guest, Thank you for the feedback and you...  Date of visit: July 2023  \n",
       "2  Alston and Caleb amazing staff Very nice food ...  Date of visit: July 2023  \n",
       "3  Dear Guest, Thank you so much for your kind wo...  Date of visit: July 2023  \n",
       "4  Dhivakar our waiter was extraordinary! The foo...  Date of visit: July 2023  "
      ]
     },
     "execution_count": 4,
     "metadata": {},
     "output_type": "execute_result"
    }
   ],
   "source": [
    "#function to remove 'Unnamed: 0' and reset index()\n",
    "\n",
    "def unnamed_removal(data, *columns):\n",
    "    \"\"\"Removing the default index column that comes when a dataframe \n",
    "    is imported. Also resetting the index \"\"\"\n",
    "\n",
    "    removed_column = data.drop(columns=[*columns])\n",
    "    new_dataframe = removed_column.reset_index(drop=True)\n",
    "    return new_dataframe\n",
    "\n",
    "mexican_reviews = unnamed_removal(mexican_reviews, 'Unnamed: 0.1', 'Unnamed: 0')\n",
    "mexican_reviews.head()\n"
   ]
  },
  {
   "attachments": {},
   "cell_type": "markdown",
   "metadata": {},
   "source": [
    "#### filtering out descriptions that were manager responses. They start out with 'Dear' or 'Hello'"
   ]
  },
  {
   "cell_type": "code",
   "execution_count": 5,
   "metadata": {},
   "outputs": [
    {
     "data": {
      "text/plain": [
       "14947"
      ]
     },
     "execution_count": 5,
     "metadata": {},
     "output_type": "execute_result"
    }
   ],
   "source": [
    "#filtering out function. ~symbol indicates what \"isn't\"\n",
    "\n",
    "def filter_manager_response(df, column, *conditions):\n",
    "    filtered_df = df[~df[column].str.lower().str.startswith((conditions))].reset_index(drop=True)\n",
    "    return filtered_df\n",
    "\n",
    "mexican_reviews = filter_manager_response(mexican_reviews, 'description', 'dear', 'hello')\n",
    "len(mexican_reviews)"
   ]
  },
  {
   "attachments": {},
   "cell_type": "markdown",
   "metadata": {},
   "source": [
    "#### Text pre-processing: all lower case and punctuation "
   ]
  },
  {
   "cell_type": "code",
   "execution_count": 6,
   "metadata": {},
   "outputs": [
    {
     "name": "stdout",
     "output_type": "stream",
     "text": [
      "review_title data type: object\n",
      "review_date data type: object\n",
      "description data type: object\n",
      "date_of_visit data type: object\n"
     ]
    }
   ],
   "source": [
    "#checking the data types\n",
    "\n",
    "def type_check(data, *columns):\n",
    "    \"\"\" function that checks the data types of each column \"\"\"\n",
    "\n",
    "    for column in columns:\n",
    "        print(f\"{column} data type: {data[column].dtypes}\")\n",
    "\n",
    "#* symbol unpacks the columns \n",
    "type_check(mexican_reviews, *mexican_reviews.columns)\n"
   ]
  },
  {
   "cell_type": "code",
   "execution_count": 7,
   "metadata": {},
   "outputs": [
    {
     "data": {
      "text/html": [
       "<div>\n",
       "<style scoped>\n",
       "    .dataframe tbody tr th:only-of-type {\n",
       "        vertical-align: middle;\n",
       "    }\n",
       "\n",
       "    .dataframe tbody tr th {\n",
       "        vertical-align: top;\n",
       "    }\n",
       "\n",
       "    .dataframe thead th {\n",
       "        text-align: right;\n",
       "    }\n",
       "</style>\n",
       "<table border=\"1\" class=\"dataframe\">\n",
       "  <thead>\n",
       "    <tr style=\"text-align: right;\">\n",
       "      <th></th>\n",
       "      <th>review_title</th>\n",
       "      <th>review_date</th>\n",
       "      <th>description</th>\n",
       "      <th>date_of_visit</th>\n",
       "    </tr>\n",
       "  </thead>\n",
       "  <tbody>\n",
       "    <tr>\n",
       "      <th>0</th>\n",
       "      <td>great breakfast service</td>\n",
       "      <td>8 July 2023</td>\n",
       "      <td>awa served us breakfast and she was wonderful ...</td>\n",
       "      <td>Date of visit July 2023</td>\n",
       "    </tr>\n",
       "    <tr>\n",
       "      <th>1</th>\n",
       "      <td>ask for dhaval he was great</td>\n",
       "      <td>8 July 2023</td>\n",
       "      <td>alston and caleb amazing staff very nice food ...</td>\n",
       "      <td>Date of visit July 2023</td>\n",
       "    </tr>\n",
       "    <tr>\n",
       "      <th>2</th>\n",
       "      <td>great evening meal out</td>\n",
       "      <td>8 July 2023</td>\n",
       "      <td>dhivakar our waiter was extraordinary the food...</td>\n",
       "      <td>Date of visit July 2023</td>\n",
       "    </tr>\n",
       "    <tr>\n",
       "      <th>3</th>\n",
       "      <td>fabulous food and cocktails and even more fabu...</td>\n",
       "      <td>7 July 2023</td>\n",
       "      <td>dhaval explained the menu and made the best re...</td>\n",
       "      <td>Date of visit July 2023</td>\n",
       "    </tr>\n",
       "    <tr>\n",
       "      <th>4</th>\n",
       "      <td>great service</td>\n",
       "      <td>7 July 2023</td>\n",
       "      <td>alston and caleb were brilliant servers very a...</td>\n",
       "      <td>Date of visit July 2023</td>\n",
       "    </tr>\n",
       "  </tbody>\n",
       "</table>\n",
       "</div>"
      ],
      "text/plain": [
       "                                        review_title  review_date  \\\n",
       "0                            great breakfast service  8 July 2023   \n",
       "1                        ask for dhaval he was great  8 July 2023   \n",
       "2                             great evening meal out  8 July 2023   \n",
       "3  fabulous food and cocktails and even more fabu...  7 July 2023   \n",
       "4                                      great service  7 July 2023   \n",
       "\n",
       "                                         description            date_of_visit  \n",
       "0  awa served us breakfast and she was wonderful ...  Date of visit July 2023  \n",
       "1  alston and caleb amazing staff very nice food ...  Date of visit July 2023  \n",
       "2  dhivakar our waiter was extraordinary the food...  Date of visit July 2023  \n",
       "3  dhaval explained the menu and made the best re...  Date of visit July 2023  \n",
       "4  alston and caleb were brilliant servers very a...  Date of visit July 2023  "
      ]
     },
     "execution_count": 7,
     "metadata": {},
     "output_type": "execute_result"
    }
   ],
   "source": [
    "#class to convert to lower case and remove punctuation\n",
    "\n",
    "class CaseAndPunctuationProcessor:\n",
    "    @staticmethod\n",
    "    def all_lower(data, *columns):\n",
    "        \"\"\"Method that applies to all text columns\"\"\"\n",
    "        \n",
    "        \"\"\" iterating through each column of the data frame \"\"\"\n",
    "        for column in columns:\n",
    "            data[column] = data[column].str.lower()\n",
    "        return data\n",
    "\n",
    "    @staticmethod\n",
    "    def remove_punctuation(text):\n",
    "        punctuations = string.punctuation\n",
    "\n",
    "        if isinstance(text, str):\n",
    "            return text.translate(str.maketrans('','', punctuations))\n",
    "        \n",
    "        else:\n",
    "            return text\n",
    "    \n",
    "\n",
    "processor = CaseAndPunctuationProcessor()\n",
    "lower_data = processor.all_lower(mexican_reviews, 'review_title', 'description').applymap(processor.remove_punctuation)\n",
    "\n",
    "lower_data.head()\n",
    "\n",
    "\n",
    "        "
   ]
  },
  {
   "cell_type": "code",
   "execution_count": 8,
   "metadata": {},
   "outputs": [
    {
     "data": {
      "text/html": [
       "<div>\n",
       "<style scoped>\n",
       "    .dataframe tbody tr th:only-of-type {\n",
       "        vertical-align: middle;\n",
       "    }\n",
       "\n",
       "    .dataframe tbody tr th {\n",
       "        vertical-align: top;\n",
       "    }\n",
       "\n",
       "    .dataframe thead th {\n",
       "        text-align: right;\n",
       "    }\n",
       "</style>\n",
       "<table border=\"1\" class=\"dataframe\">\n",
       "  <thead>\n",
       "    <tr style=\"text-align: right;\">\n",
       "      <th></th>\n",
       "      <th>review_title</th>\n",
       "      <th>description</th>\n",
       "    </tr>\n",
       "  </thead>\n",
       "  <tbody>\n",
       "    <tr>\n",
       "      <th>0</th>\n",
       "      <td>great breakfast service</td>\n",
       "      <td>awa served us breakfast and she was wonderful ...</td>\n",
       "    </tr>\n",
       "    <tr>\n",
       "      <th>1</th>\n",
       "      <td>ask for dhaval he was great</td>\n",
       "      <td>alston and caleb amazing staff very nice food ...</td>\n",
       "    </tr>\n",
       "    <tr>\n",
       "      <th>2</th>\n",
       "      <td>great evening meal out</td>\n",
       "      <td>dhivakar our waiter was extraordinary the food...</td>\n",
       "    </tr>\n",
       "    <tr>\n",
       "      <th>3</th>\n",
       "      <td>fabulous food and cocktails and even more fabu...</td>\n",
       "      <td>dhaval explained the menu and made the best re...</td>\n",
       "    </tr>\n",
       "    <tr>\n",
       "      <th>4</th>\n",
       "      <td>great service</td>\n",
       "      <td>alston and caleb were brilliant servers very a...</td>\n",
       "    </tr>\n",
       "  </tbody>\n",
       "</table>\n",
       "</div>"
      ],
      "text/plain": [
       "                                        review_title  \\\n",
       "0                            great breakfast service   \n",
       "1                        ask for dhaval he was great   \n",
       "2                             great evening meal out   \n",
       "3  fabulous food and cocktails and even more fabu...   \n",
       "4                                      great service   \n",
       "\n",
       "                                         description  \n",
       "0  awa served us breakfast and she was wonderful ...  \n",
       "1  alston and caleb amazing staff very nice food ...  \n",
       "2  dhivakar our waiter was extraordinary the food...  \n",
       "3  dhaval explained the menu and made the best re...  \n",
       "4  alston and caleb were brilliant servers very a...  "
      ]
     },
     "execution_count": 8,
     "metadata": {},
     "output_type": "execute_result"
    }
   ],
   "source": [
    "review_text_data = lower_data[['review_title', 'description']]\n",
    "review_text_data.head()"
   ]
  },
  {
   "attachments": {},
   "cell_type": "markdown",
   "metadata": {},
   "source": [
    "#### Text pre-processing: Removal of stop words "
   ]
  },
  {
   "cell_type": "code",
   "execution_count": 9,
   "metadata": {},
   "outputs": [
    {
     "data": {
      "text/plain": [
       "\"i me my myself we our ours ourselves you you're you've you'll you'd your yours yourself yourselves he him his himself she she's her hers herself it it's its itself they them their theirs themselves what which who whom this that that'll these those am is are was were be been being have has had having do does did doing a an the and but if or because as until while of at by for with about against between into through during before after above below to from up down in out on off over under again further then once here there when where why how all any both each few more most other some such no nor not only own same so than too very s t can will just don don't should should've now d ll m o re ve y ain aren aren't couldn couldn't didn didn't doesn doesn't hadn hadn't hasn hasn't haven haven't isn isn't ma mightn mightn't mustn mustn't needn needn't shan shan't shouldn shouldn't wasn wasn't weren weren't won won't wouldn wouldn't\""
      ]
     },
     "execution_count": 9,
     "metadata": {},
     "output_type": "execute_result"
    }
   ],
   "source": [
    "\" \".join(stopwords.words('english'))"
   ]
  },
  {
   "cell_type": "code",
   "execution_count": 10,
   "metadata": {},
   "outputs": [],
   "source": [
    "#make stopwords into a set \n",
    "\n",
    "stop_words = set(stopwords.words('english'))"
   ]
  },
  {
   "cell_type": "code",
   "execution_count": 13,
   "metadata": {},
   "outputs": [],
   "source": [
    "#convert review text columns into a list for indexing slicing \n",
    "\n",
    "review_text_column_list = review_text_data.columns.to_list()"
   ]
  },
  {
   "cell_type": "code",
   "execution_count": 17,
   "metadata": {},
   "outputs": [
    {
     "name": "stderr",
     "output_type": "stream",
     "text": [
      "C:\\Users\\CallumO'Neill\\AppData\\Local\\Temp\\ipykernel_32472\\2519312875.py:8: SettingWithCopyWarning: \n",
      "A value is trying to be set on a copy of a slice from a DataFrame.\n",
      "Try using .loc[row_indexer,col_indexer] = value instead\n",
      "\n",
      "See the caveats in the documentation: https://pandas.pydata.org/pandas-docs/stable/user_guide/indexing.html#returning-a-view-versus-a-copy\n",
      "  review_text_data[text_column] = review_text_data[text_column].apply(lambda stop_word: stopwords_removal(stop_word))\n",
      "C:\\Users\\CallumO'Neill\\AppData\\Local\\Temp\\ipykernel_32472\\2519312875.py:8: SettingWithCopyWarning: \n",
      "A value is trying to be set on a copy of a slice from a DataFrame.\n",
      "Try using .loc[row_indexer,col_indexer] = value instead\n",
      "\n",
      "See the caveats in the documentation: https://pandas.pydata.org/pandas-docs/stable/user_guide/indexing.html#returning-a-view-versus-a-copy\n",
      "  review_text_data[text_column] = review_text_data[text_column].apply(lambda stop_word: stopwords_removal(stop_word))\n"
     ]
    }
   ],
   "source": [
    "#stop words removal function\n",
    "def stopwords_removal(text):\n",
    "    \"\"\" splits words into just one word provided they are not a stop word \"\"\"\n",
    "\n",
    "    return ' '.join([word for word in text.split() if word not in stop_words])\n",
    "\n",
    "for text_column in review_text_column_list:\n",
    "    review_text_data[text_column] = review_text_data[text_column].apply(lambda stop_word: stopwords_removal(stop_word))"
   ]
  },
  {
   "cell_type": "code",
   "execution_count": 18,
   "metadata": {},
   "outputs": [
    {
     "data": {
      "text/html": [
       "<div>\n",
       "<style scoped>\n",
       "    .dataframe tbody tr th:only-of-type {\n",
       "        vertical-align: middle;\n",
       "    }\n",
       "\n",
       "    .dataframe tbody tr th {\n",
       "        vertical-align: top;\n",
       "    }\n",
       "\n",
       "    .dataframe thead th {\n",
       "        text-align: right;\n",
       "    }\n",
       "</style>\n",
       "<table border=\"1\" class=\"dataframe\">\n",
       "  <thead>\n",
       "    <tr style=\"text-align: right;\">\n",
       "      <th></th>\n",
       "      <th>review_title</th>\n",
       "      <th>description</th>\n",
       "    </tr>\n",
       "  </thead>\n",
       "  <tbody>\n",
       "    <tr>\n",
       "      <th>0</th>\n",
       "      <td>great breakfast service</td>\n",
       "      <td>awa served us breakfast wonderful ate restaura...</td>\n",
       "    </tr>\n",
       "    <tr>\n",
       "      <th>1</th>\n",
       "      <td>ask dhaval great</td>\n",
       "      <td>alston caleb amazing staff nice food spotless ...</td>\n",
       "    </tr>\n",
       "    <tr>\n",
       "      <th>2</th>\n",
       "      <td>great evening meal</td>\n",
       "      <td>dhivakar waiter extraordinary food incredible ...</td>\n",
       "    </tr>\n",
       "    <tr>\n",
       "      <th>3</th>\n",
       "      <td>fabulous food cocktails even fabulous service</td>\n",
       "      <td>dhaval explained menu made best recommendation...</td>\n",
       "    </tr>\n",
       "    <tr>\n",
       "      <th>4</th>\n",
       "      <td>great service</td>\n",
       "      <td>alston caleb brilliant servers attentive food ...</td>\n",
       "    </tr>\n",
       "    <tr>\n",
       "      <th>...</th>\n",
       "      <td>...</td>\n",
       "      <td>...</td>\n",
       "    </tr>\n",
       "    <tr>\n",
       "      <th>14942</th>\n",
       "      <td>reliable little stop</td>\n",
       "      <td>great little stop vegetarian one place always ...</td>\n",
       "    </tr>\n",
       "    <tr>\n",
       "      <th>14943</th>\n",
       "      <td>feedback</td>\n",
       "      <td>passing waterloo work stopped mi casa lunch fo...</td>\n",
       "    </tr>\n",
       "    <tr>\n",
       "      <th>14944</th>\n",
       "      <td>quick easy</td>\n",
       "      <td>usually get treat fridays go route meeting alw...</td>\n",
       "    </tr>\n",
       "    <tr>\n",
       "      <th>14945</th>\n",
       "      <td>spicy option spicy personal choice</td>\n",
       "      <td>occasional visit never disappoints ok visit ev...</td>\n",
       "    </tr>\n",
       "    <tr>\n",
       "      <th>14946</th>\n",
       "      <td>superb service tasty food</td>\n",
       "      <td>little treat travel waterloo station always re...</td>\n",
       "    </tr>\n",
       "  </tbody>\n",
       "</table>\n",
       "<p>14947 rows × 2 columns</p>\n",
       "</div>"
      ],
      "text/plain": [
       "                                        review_title  \\\n",
       "0                            great breakfast service   \n",
       "1                                   ask dhaval great   \n",
       "2                                 great evening meal   \n",
       "3      fabulous food cocktails even fabulous service   \n",
       "4                                      great service   \n",
       "...                                              ...   \n",
       "14942                           reliable little stop   \n",
       "14943                                       feedback   \n",
       "14944                                     quick easy   \n",
       "14945             spicy option spicy personal choice   \n",
       "14946                      superb service tasty food   \n",
       "\n",
       "                                             description  \n",
       "0      awa served us breakfast wonderful ate restaura...  \n",
       "1      alston caleb amazing staff nice food spotless ...  \n",
       "2      dhivakar waiter extraordinary food incredible ...  \n",
       "3      dhaval explained menu made best recommendation...  \n",
       "4      alston caleb brilliant servers attentive food ...  \n",
       "...                                                  ...  \n",
       "14942  great little stop vegetarian one place always ...  \n",
       "14943  passing waterloo work stopped mi casa lunch fo...  \n",
       "14944  usually get treat fridays go route meeting alw...  \n",
       "14945  occasional visit never disappoints ok visit ev...  \n",
       "14946  little treat travel waterloo station always re...  \n",
       "\n",
       "[14947 rows x 2 columns]"
      ]
     },
     "execution_count": 18,
     "metadata": {},
     "output_type": "execute_result"
    }
   ],
   "source": [
    "review_text_data"
   ]
  },
  {
   "cell_type": "code",
   "execution_count": null,
   "metadata": {},
   "outputs": [],
   "source": []
  }
 ],
 "metadata": {
  "kernelspec": {
   "display_name": "virt_env",
   "language": "python",
   "name": "python3"
  },
  "language_info": {
   "codemirror_mode": {
    "name": "ipython",
    "version": 3
   },
   "file_extension": ".py",
   "mimetype": "text/x-python",
   "name": "python",
   "nbconvert_exporter": "python",
   "pygments_lexer": "ipython3",
   "version": "3.11.3"
  },
  "orig_nbformat": 4
 },
 "nbformat": 4,
 "nbformat_minor": 2
}
